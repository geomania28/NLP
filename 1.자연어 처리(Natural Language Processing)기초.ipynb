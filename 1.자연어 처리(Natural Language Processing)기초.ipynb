{
 "cells": [
  {
   "cell_type": "markdown",
   "metadata": {
    "id": "YLv9iQK0HOlX"
   },
   "source": [
    "# 자연어 처리(Natural Language Processing, NLP) 개요\n",
    "- 자연어처리(Natural Language Processing, NLP)는 인간의 언어를 컴퓨터가 이해하고 처리할 수 있도록 하는 인공지능의 한 분야입니다.\n",
    "- NLP는 텍스트 분석, 기계 번역, 감성 분석, 챗봇 등 다양한 응용 분야에서 활용됩니다."
   ]
  },
  {
   "cell_type": "markdown",
   "metadata": {
    "id": "eyEcNJK7qAGM"
   },
   "source": [
    "# 텍스트 처리 기본 함수\n",
    "\n",
    "## 1. 텍스트 정제\n",
    "- 텍스트 데이터를 처리할 때 가장 먼저 해야 할 일은 텍스트 정제입니다.\n",
    "- 아래는 정규표현식을 사용한 기본적인 텍스트 정제 함수의 예시입니다.\n",
    "\n",
    "### 정규표현식 (Regular Expressions)\n",
    "- 정규표현식은 문자열에서 특정 패턴을 찾거나 조작하는 데 사용되는 강력한 도구입니다.\n",
    "    - .: 임의의 한 문자\n",
    "    - ^: 문자열의 시작\n",
    "    - $: 문자열의 끝\n",
    "    - *: 0회 이상 반복\n",
    "    - +: 1회 이상 반복\n",
    "    - ?: 0회 또는 1회\n",
    "    - []: 문자 클래스\n",
    "    - [^]: 부정 문자 클래스\n",
    "    - \\d: 숫자\n",
    "    - \\w: 단어 문자 (알파벳, 숫자, 언더스코어)\n",
    "    - \\s: 공백 문자"
   ]
  },
  {
   "cell_type": "code",
   "execution_count": null,
   "metadata": {
    "colab": {
     "base_uri": "https://localhost:8080/"
    },
    "executionInfo": {
     "elapsed": 293,
     "status": "ok",
     "timestamp": 1733228088295,
     "user": {
      "displayName": "김민수",
      "userId": "14499279899039145671"
     },
     "user_tz": -540
    },
    "id": "8zWH9uBucZXn",
    "outputId": "178f3796-0fd1-4dcc-9a86-d00b59bf399d"
   },
   "outputs": [
    {
     "name": "stdout",
     "output_type": "stream",
     "text": [
      "Phone numbers: ['123-456-7890']\n",
      "Emails: ['example@email.com']\n"
     ]
    }
   ],
   "source": [
    "import re\n",
    "\n",
    "text = \"Hello, my number is 123-456-7890 and my email is example@email.com\"\n",
    "\n",
    "'''\n",
    "re.findall(pattern, text)\n",
    "- pattern에 매칭되는 모든 문자열을 리스트로 반환한다.\n",
    "- 예를 들어 text에 \"123-456-7890\"이 있으면 [\"123-456-7890\"] 반환\n",
    "'''\n",
    "\n",
    "# 전화번호 찾기\n",
    "phone_pattern = r'\\d{3}-\\d{3}-\\d{4}'\n",
    "phone_numbers = re.findall(phone_pattern, text)\n",
    "\n",
    "# 이메일 찾기\n",
    "# 이 패턴은 일반적인 이메일 주소 형태를 찾아내는 정규표현식\n",
    "# \\b는 단어 경계를 의미, [A-Za-z0-9._%+-]+는 이메일 시작 부분(계정명)의 가능한 문자들\n",
    "# @[A-Za-z0-9.-]+는 '@' 뒤에 오는 도메인 이름 패턴\n",
    "# \\.[A-Z|a-z]{2,}는 최종 도메인 (예: .com, .net 등) 2글자 이상\n",
    "email_pattern = r'\\b[A-Za-z0-9._%+-]+@[A-Za-z0-9.-]+\\.[A-Z|a-z]{2,}\\b'\n",
    "emails = re.findall(email_pattern, text)\n",
    "\n",
    "print(\"Phone numbers:\", phone_numbers)\n",
    "print(\"Emails:\", emails)"
   ]
  },
  {
   "cell_type": "code",
   "execution_count": null,
   "metadata": {
    "colab": {
     "base_uri": "https://localhost:8080/"
    },
    "executionInfo": {
     "elapsed": 310,
     "status": "ok",
     "timestamp": 1733227943477,
     "user": {
      "displayName": "김민수",
      "userId": "14499279899039145671"
     },
     "user_tz": -540
    },
    "id": "E2Rlq-slR6BE",
    "outputId": "0105d23d-695e-4d4c-d034-4211f835ea34"
   },
   "outputs": [
    {
     "name": "stdout",
     "output_type": "stream",
     "text": [
      "hello world how are you\n"
     ]
    }
   ],
   "source": [
    "import re\n",
    "\n",
    "def clean_text(text):\n",
    "    '''\n",
    "    함수 설명:\n",
    "    입력: text(문자열)\n",
    "    출력: 정제된 text(문자열)\n",
    "    역할: 입력된 문자열을 소문자로 변환하고, 특수문자를 제거하며, 중복 공백을 하나로 치환하여 깔끔한 형태로 반환한다.\n",
    "    '''\n",
    "    # 소문자로 변환\n",
    "    text = text.lower()\n",
    "    # 특수문자 제거\n",
    "    text = re.sub(r'[^a-zA-Z0-9\\s]', '', text)\n",
    "    # 여러 개의 공백을 하나로 치환\n",
    "    text = re.sub(r'\\s+', ' ', text).strip()\n",
    "    return text\n",
    "\n",
    "# 사용 예시\n",
    "text = \"Hello, World!   How are you??\"\n",
    "cleaned_text = clean_text(text)\n",
    "print(cleaned_text)  # 출력: hello world how are you"
   ]
  },
  {
   "cell_type": "markdown",
   "metadata": {
    "id": "inehXda7HZhF"
   },
   "source": [
    "## 2. 토큰화 (Tokenization)\n",
    "- 토큰화는 텍스트를 더 작은 단위(토큰)로 나누는 과정입니다. 주로 단어나 서브워드 단위로 나눕니다."
   ]
  },
  {
   "cell_type": "code",
   "execution_count": null,
   "metadata": {
    "colab": {
     "base_uri": "https://localhost:8080/"
    },
    "executionInfo": {
     "elapsed": 619,
     "status": "ok",
     "timestamp": 1733227336589,
     "user": {
      "displayName": "김민수",
      "userId": "14499279899039145671"
     },
     "user_tz": -540
    },
    "id": "A2ecFG_VUV2S",
    "outputId": "296c3e00-63d3-4dab-f832-94060ee42c32"
   },
   "outputs": [
    {
     "name": "stderr",
     "output_type": "stream",
     "text": [
      "[nltk_data] Downloading package punkt to /root/nltk_data...\n",
      "[nltk_data]   Package punkt is already up-to-date!\n",
      "[nltk_data] Downloading package punkt_tab to /root/nltk_data...\n",
      "[nltk_data]   Unzipping tokenizers/punkt_tab.zip.\n"
     ]
    },
    {
     "name": "stdout",
     "output_type": "stream",
     "text": [
      "['Natural', 'language', 'processing', 'is', 'fascinating', '!']\n",
      "['Natural', 'language', 'processing', 'is', 'fascinating!']\n"
     ]
    }
   ],
   "source": [
    "from nltk.tokenize import word_tokenize  # nltk의 단어 토큰화 함수 - 문자열을 단어 단위로 나눌 때 사용\n",
    "import nltk  # 자연어 처리 패키지 NLTK\n",
    "nltk.download('punkt')     # 'punkt' 토크나이저 모델 다운로드 - 영어 단어/문장 토큰화를 위해 필요\n",
    "nltk.download('punkt_tab') # punkt_tab 리소스 다운로드 (NLTK 내부 리소스, punkt 토크나이저 관련 추가 데이터)\n",
    "\n",
    "def tokenize_words(text):\n",
    "    # 함수 설명:\n",
    "    #   입력: text(문자열)\n",
    "    #   출력: 단어로 나뉘어진 리스트 (예: \"Hello world\" -> [\"Hello\", \"world\"])\n",
    "    #   역할: 주어진 문자열을 단어 단위로 분리하여 리스트로 반환한다.\n",
    "    return word_tokenize(text)\n",
    "\n",
    "# 사용 예시 - 단어 토큰화\n",
    "text = \"Natural language processing is fascinating!\"\n",
    "print(tokenize_words(text)) # 예측 출력: ['Natural', 'language', 'processing', 'is', 'fascinating', '!']\n",
    "print(text.split()) # 문자열 기본 split(), 공백 기준으로 나누기 (['Natural', 'language', 'processing', 'is', 'fascinating!'])"
   ]
  },
  {
   "cell_type": "code",
   "execution_count": null,
   "metadata": {
    "id": "YUrnIgVnUcNJ"
   },
   "outputs": [],
   "source": [
    "from nltk.tokenize import sent_tokenize\n",
    "\n",
    "def tokenize_sentences(text):\n",
    "    # 함수 설명:\n",
    "    #   입력: text(문자열)\n",
    "    #   출력: 문장 리스트 (예: \"Hello world. How are you?\" -> [\"Hello world.\", \"How are you?\"])\n",
    "    #   역할: 주어진 문자열을 문장 단위로 분리하여 리스트로 반환한다.\n",
    "    return sent_tokenize(text)\n",
    "\n",
    "# 사용 예시 - 문장 토큰화\n",
    "text = \"Hello world. How are you? I'm fine, thank you.\"\n",
    "sentences = tokenize_sentences(text)\n",
    "print(sentences)  # 출력: ['Hello world.', 'How are you?', \"I'm fine, thank you.\"]"
   ]
  },
  {
   "cell_type": "code",
   "execution_count": null,
   "metadata": {
    "colab": {
     "base_uri": "https://localhost:8080/"
    },
    "executionInfo": {
     "elapsed": 11440,
     "status": "ok",
     "timestamp": 1733228752336,
     "user": {
      "displayName": "김민수",
      "userId": "14499279899039145671"
     },
     "user_tz": -540
    },
    "id": "jUDyBTuZe6S1",
    "outputId": "fb380c07-82c3-4d6a-e502-c59ca8c7e390"
   },
   "outputs": [
    {
     "name": "stdout",
     "output_type": "stream",
     "text": [
      "Collecting konlpy\n",
      "  Downloading konlpy-0.6.0-py2.py3-none-any.whl.metadata (1.9 kB)\n",
      "Collecting JPype1>=0.7.0 (from konlpy)\n",
      "  Downloading jpype1-1.5.1-cp310-cp310-manylinux_2_17_x86_64.manylinux2014_x86_64.whl.metadata (4.9 kB)\n",
      "Requirement already satisfied: lxml>=4.1.0 in /usr/local/lib/python3.10/dist-packages (from konlpy) (5.3.0)\n",
      "Requirement already satisfied: numpy>=1.6 in /usr/local/lib/python3.10/dist-packages (from konlpy) (1.26.4)\n",
      "Requirement already satisfied: packaging in /usr/local/lib/python3.10/dist-packages (from JPype1>=0.7.0->konlpy) (24.2)\n",
      "Downloading konlpy-0.6.0-py2.py3-none-any.whl (19.4 MB)\n",
      "\u001b[2K   \u001b[90m━━━━━━━━━━━━━━━━━━━━━━━━━━━━━━━━━━━━━━━━\u001b[0m \u001b[32m19.4/19.4 MB\u001b[0m \u001b[31m35.3 MB/s\u001b[0m eta \u001b[36m0:00:00\u001b[0m\n",
      "\u001b[?25hDownloading jpype1-1.5.1-cp310-cp310-manylinux_2_17_x86_64.manylinux2014_x86_64.whl (493 kB)\n",
      "\u001b[2K   \u001b[90m━━━━━━━━━━━━━━━━━━━━━━━━━━━━━━━━━━━━━━━━\u001b[0m \u001b[32m493.8/493.8 kB\u001b[0m \u001b[31m13.0 MB/s\u001b[0m eta \u001b[36m0:00:00\u001b[0m\n",
      "\u001b[?25hInstalling collected packages: JPype1, konlpy\n",
      "Successfully installed JPype1-1.5.1 konlpy-0.6.0\n"
     ]
    }
   ],
   "source": [
    "!pip install konlpy"
   ]
  },
  {
   "cell_type": "code",
   "execution_count": null,
   "metadata": {
    "colab": {
     "base_uri": "https://localhost:8080/"
    },
    "executionInfo": {
     "elapsed": 346,
     "status": "ok",
     "timestamp": 1733228856996,
     "user": {
      "displayName": "김민수",
      "userId": "14499279899039145671"
     },
     "user_tz": -540
    },
    "id": "j-XAYMxPe71M",
    "outputId": "fd446ef7-e51a-48f0-dbb5-369f87d820a8"
   },
   "outputs": [
    {
     "name": "stdout",
     "output_type": "stream",
     "text": [
      "['언제나', '현재', '에', '집중', '할', '수', '있다면', '행복할', '것', '이다']\n",
      "[('언제나', 'Adverb'), ('현재', 'Noun'), ('에', 'Josa'), ('집중', 'Noun'), ('할', 'Verb'), ('수', 'Noun'), ('있다면', 'Adjective'), ('행복할', 'Adjective'), ('것', 'Noun'), ('이다', 'Josa')]\n"
     ]
    }
   ],
   "source": [
    "tagger = Okt()\n",
    "sentence = '언제나 현재에 집중할 수 있다면 행복할 것이다'\n",
    "# 형태소 분석 (morphs): 문장을 형태소 단위로 나눈다. 예: ['언제나', '현재', '에', '집중', '할', '수', '있다면', '행복', '할', '것', '이다']\n",
    "print(tagger.morphs(sentence))\n",
    "# 품사 태깅 (pos): 문장을 형태소 단위로 나누고 각 형태소에 대한 품사 정보를 부여한다.\n",
    "# 예: [('언제나', 'Adverb'), ('현재', 'Noun'), ('에', 'Josa'), ('집중', 'Noun'), ('할', 'Verb'), ...]\n",
    "print(tagger.pos(sentence))"
   ]
  },
  {
   "cell_type": "markdown",
   "metadata": {
    "id": "W53tu5dXuZR_"
   },
   "source": [
    "## 3. 임베딩 (Embedding)\n",
    "- 임베딩은 단어나 문장을 고차원의 벡터 공간에 매핑하는 과정입니다.\n",
    "- 이를 통해 텍스트 데이터를 수치화하여 기계학습 모델에 입력할 수 있습니다.\n",
    "- Word2Vec은 단어를 벡터로 표현하는 대표적인 단어 임베딩 기법입니다. 이 모델은 **단어**의 의미와 관계를 고차원 **벡터 공간**에 매핑합니다.\n",
    "\n",
    "### Word2Vec 모델 설명\n",
    "- 작동 원리: Word2Vec은 단어의 문맥(주변 단어)을 기반으로 학습합니다. 비슷한 문맥에서 사용되는 단어들은 벡터 공간에서 서로 가깝게 위치하게 됩니다.\n",
    "\n",
    " <img src=\"https://img1.daumcdn.net/thumb/R1280x0/?scode=mtistory2&fname=https%3A%2F%2Fblog.kakaocdn.net%2Fdn%2FcbwUqX%2FbtsA2uduwBl%2FlKBfAfhdOHIVJDZTyyaBk1%2Fimg.png\" width=\"500\">\n",
    "- 학습 방식:\n",
    "  1. CBOW(Continuous Bag of Words): 주변 단어들로 중심 단어를 예측\n",
    "  2. Skip-gram: 중심 단어로 주변 단어들을 예측\n",
    "\n",
    "- 주요 매개변수:\n",
    "  - vector_size: 각 단어를 표현할 벡터의 차원 수. 보통 100~300 사이의 값을 사용합니다.\n",
    "  - window: 문맥을 고려할 단어의 범위. 앞뒤로 몇 개의 단어를 볼지 결정합니다.\n",
    "  - min_count: 학습에 사용할 단어의 최소 등장 횟수. 데이터 크기에 따라 조정합니다.\n",
    "  - workers: 병렬 처리에 사용할 CPU 코어 수. 학습 속도를 높일 수 있습니다.\n",
    "- 벡터 연산: Word2Vec으로 학습된 벡터는 의미 있는 벡터 연산이 가능합니다.\n",
    "  - 예: vec('king') - vec('man') + vec('woman') ≈ vec('queen')\n",
    "- 유사도 계산: 코사인 유사도를 사용하여 단어 간 유사도를 계산합니다.\n",
    "- 한계점:\n",
    "  - 동음이의어나 문맥에 따른 의미 변화를 잘 포착하지 못할 수 있습니다.\n",
    "  - 학습 데이터에 없는 단어(OOV, Out-of-Vocabulary)는 처리할 수 없습니다.\n",
    "  - Word2Vec은 간단하면서도 강력한 단어 임베딩 기법으로, 다양한 NLP 작업의 기초가 됩니다.\n",
    "  - **최근에는 BERT, GPT 등의 문맥을 더 잘 반영하는 고급 임베딩 기법들도 많이 사용되고 있습니다.**"
   ]
  },
  {
   "cell_type": "code",
   "execution_count": null,
   "metadata": {
    "colab": {
     "base_uri": "https://localhost:8080/"
    },
    "executionInfo": {
     "elapsed": 1461,
     "status": "ok",
     "timestamp": 1733229877578,
     "user": {
      "displayName": "김민수",
      "userId": "14499279899039145671"
     },
     "user_tz": -540
    },
    "id": "GnRaW0WyUma9",
    "outputId": "d75c7c82-76d2-48a9-ebec-4988ff56d5ac"
   },
   "outputs": [
    {
     "name": "stdout",
     "output_type": "stream",
     "text": [
      "'language' 단어의 벡터 표현:\n",
      "[-0.00515624 -0.00666834 -0.00777684  0.00831073 -0.00198234 -0.00685496\n",
      " -0.00415439  0.00514413 -0.00286914 -0.00374966  0.00162143 -0.00277629\n",
      " -0.00158436  0.00107449 -0.00297794  0.00851928  0.00391094 -0.00995886\n",
      "  0.0062596  -0.00675425  0.00076943  0.00440423 -0.00510337 -0.00211067\n",
      "  0.00809548 -0.00424379 -0.00763626  0.00925791 -0.0021555  -0.00471943\n",
      "  0.0085708   0.00428334  0.00432484  0.00928451 -0.00845308  0.00525532\n",
      "  0.00203935  0.00418828  0.0016979   0.00446413  0.00448629  0.00610452\n",
      " -0.0032021  -0.00457573 -0.00042652  0.00253373 -0.00326317  0.00605772\n",
      "  0.00415413  0.00776459  0.00256927  0.00811668 -0.00138721  0.00807793\n",
      "  0.00371702 -0.00804732 -0.00393361 -0.00247188  0.00489304 -0.00087216\n",
      " -0.00283091  0.00783371  0.0093229  -0.00161493 -0.00515925 -0.00470176\n",
      " -0.00484605 -0.00960283  0.00137202 -0.00422492  0.00252671  0.00561448\n",
      " -0.00406591 -0.00959658  0.0015467  -0.00670012  0.00249517 -0.00378063\n",
      "  0.00707842  0.00064022  0.00356094 -0.00273913 -0.00171055  0.00765279\n",
      "  0.00140768 -0.00585045 -0.0078345   0.00123269  0.00645463  0.00555635\n",
      " -0.00897705  0.00859216  0.00404698  0.00746961  0.00974633 -0.00728958\n",
      " -0.00903996  0.005836    0.00939121  0.00350693]\n",
      "\n",
      "'learning'과 가장 유사한 단어들:\n",
      "language: 0.2162\n",
      "interesting: 0.0929\n",
      "natural: 0.0629\n"
     ]
    }
   ],
   "source": [
    "from gensim.models import Word2Vec\n",
    "\n",
    "# 예시 문장들\n",
    "# 각 문장은 이미 토큰화되어 단어 리스트 형태로 제공됩니다.\n",
    "sentences = [['natural', 'language', 'processing'],\n",
    "             ['machine', 'learning', 'is', 'interesting'],\n",
    "             ['deep', 'learning', 'is', 'a', 'subset', 'of', 'machine', 'learning']]\n",
    "\n",
    "# Word2Vec 모델 학습\n",
    "# vector_size: 각 단어를 표현할 벡터의 차원 수\n",
    "# window: 주변 단어를 고려할 범위 (앞뒤로 5개 단어를 고려)\n",
    "# min_count: 최소 등장 횟수 (여기서는 1로 설정하여 모든 단어를 포함)\n",
    "# workers: 학습에 사용할 CPU 코어 수\n",
    "model = Word2Vec(sentences, vector_size=100, window=5, min_count=1, workers=4)\n",
    "\n",
    "# 단어 벡터 확인\n",
    "# 'language' 단어의 벡터 표현을 가져옵니다.\n",
    "vector = model.wv['language']\n",
    "print(\"'language' 단어의 벡터 표현:\")\n",
    "print(vector)  # 100차원의 벡터 출력\n",
    "\n",
    "# 유사한 단어 찾기\n",
    "# 'learning' 단어와 가장 유사한 3개의 단어를 찾습니다.\n",
    "similar_words = model.wv.most_similar('learning', topn=3)\n",
    "print(\"\\n'learning'과 가장 유사한 단어들:\")\n",
    "for word, score in similar_words:\n",
    "    print(f\"{word}: {score:.4f}\")"
   ]
  },
  {
   "cell_type": "markdown",
   "metadata": {
    "id": "ai-c5PR9U3W6"
   },
   "source": [
    "## 4. 텍스트 전처리 파이프라인\n",
    "- 실제 NLP 프로젝트에서는 여러 전처리 단계를 조합하여 파이프라인을 구성합니다."
   ]
  },
  {
   "cell_type": "code",
   "execution_count": null,
   "metadata": {
    "id": "RUMR64mSU5Z3"
   },
   "outputs": [],
   "source": [
    "def preprocess_text(text):\n",
    "    # 텍스트 정제\n",
    "    cleaned_text = clean_text(text)\n",
    "    # 토큰화\n",
    "    tokens = tokenize_words(cleaned_text)\n",
    "    # 불용어 제거 (예시로 간단한 불용어 리스트 사용)\n",
    "    stop_words = set(['is', 'the', 'a', 'an'])\n",
    "    tokens = [word for word in tokens if word not in stop_words]\n",
    "    return tokens\n",
    "\n",
    "# 사용 예시\n",
    "text = \"Natural Language Processing is the future of AI!\"\n",
    "processed_text = preprocess_text(text)\n",
    "print(processed_text)  # 출력: ['natural', 'language', 'processing', 'future', 'ai']"
   ]
  },
  {
   "cell_type": "markdown",
   "metadata": {
    "id": "jJr7sGLbU_BW"
   },
   "source": [
    "## 5. 기타 텍스트 처리 방법 예시"
   ]
  },
  {
   "cell_type": "code",
   "execution_count": null,
   "metadata": {
    "colab": {
     "base_uri": "https://localhost:8080/"
    },
    "executionInfo": {
     "elapsed": 283,
     "status": "ok",
     "timestamp": 1733226132882,
     "user": {
      "displayName": "김민수",
      "userId": "14499279899039145671"
     },
     "user_tz": -540
    },
    "id": "7gXKJ2H15wF_",
    "outputId": "25c09483-5168-46ea-8e02-396dd33af1a3"
   },
   "outputs": [
    {
     "name": "stdout",
     "output_type": "stream",
     "text": [
      "True\n"
     ]
    }
   ],
   "source": [
    "# 문자 포함 여부 확인\n",
    "sentence = 'I love you'\n",
    "print ('love' in sentence)"
   ]
  },
  {
   "cell_type": "code",
   "execution_count": null,
   "metadata": {
    "colab": {
     "base_uri": "https://localhost:8080/"
    },
    "executionInfo": {
     "elapsed": 17,
     "status": "ok",
     "timestamp": 1730087934531,
     "user": {
      "displayName": "김민수",
      "userId": "14499279899039145671"
     },
     "user_tz": -540
    },
    "id": "eDpKqMwU6G6M",
    "outputId": "b8854010-607c-492d-b775-d7e825236026"
   },
   "outputs": [
    {
     "data": {
      "text/plain": [
       "['I', 'love', 'you']"
      ]
     },
     "execution_count": 2,
     "metadata": {},
     "output_type": "execute_result"
    }
   ],
   "source": [
    "# 쪼개기\n",
    "sentence.split()"
   ]
  },
  {
   "cell_type": "code",
   "execution_count": null,
   "metadata": {
    "colab": {
     "base_uri": "https://localhost:8080/",
     "height": 36
    },
    "executionInfo": {
     "elapsed": 12,
     "status": "ok",
     "timestamp": 1730087934532,
     "user": {
      "displayName": "김민수",
      "userId": "14499279899039145671"
     },
     "user_tz": -540
    },
    "id": "yRo-_ohoPdAz",
    "outputId": "021c84cb-371c-4168-bc10-c9bb84857a49"
   },
   "outputs": [
    {
     "data": {
      "application/vnd.google.colaboratory.intrinsic+json": {
       "type": "string"
      },
      "text/plain": [
       "'지금 시간은 3시 50분 입니다'"
      ]
     },
     "execution_count": 6,
     "metadata": {},
     "output_type": "execute_result"
    }
   ],
   "source": [
    "# 대체\n",
    "sentence =  \"지금 시간은 1시 1분 입니다\"\n",
    "sentence.replace(\"1시\", \"3시\").replace(\"1분\", \"50분\")"
   ]
  },
  {
   "cell_type": "code",
   "execution_count": null,
   "metadata": {
    "colab": {
     "base_uri": "https://localhost:8080/"
    },
    "executionInfo": {
     "elapsed": 16,
     "status": "ok",
     "timestamp": 1730087934531,
     "user": {
      "displayName": "김민수",
      "userId": "14499279899039145671"
     },
     "user_tz": -540
    },
    "id": "1kXoIXAD6a7J",
    "outputId": "6e15085a-946c-4363-d83b-34ca78285f7c"
   },
   "outputs": [
    {
     "data": {
      "text/plain": [
       "1"
      ]
     },
     "execution_count": 3,
     "metadata": {},
     "output_type": "execute_result"
    }
   ],
   "source": [
    "# 쪼개서 찾기\n",
    "sentence.split().index('love')"
   ]
  },
  {
   "cell_type": "code",
   "execution_count": null,
   "metadata": {
    "colab": {
     "base_uri": "https://localhost:8080/",
     "height": 36
    },
    "executionInfo": {
     "elapsed": 15,
     "status": "ok",
     "timestamp": 1730087934531,
     "user": {
      "displayName": "김민수",
      "userId": "14499279899039145671"
     },
     "user_tz": -540
    },
    "id": "71btJnM_6Jp5",
    "outputId": "b8437d70-c387-4069-bfa5-4089aa09fcd8"
   },
   "outputs": [
    {
     "data": {
      "application/vnd.google.colaboratory.intrinsic+json": {
       "type": "string"
      },
      "text/plain": [
       "'uoy'"
      ]
     },
     "execution_count": 4,
     "metadata": {},
     "output_type": "execute_result"
    }
   ],
   "source": [
    "# 인덱싱 및 뒤집기\n",
    "sentence.split()[2][::-1]"
   ]
  },
  {
   "cell_type": "code",
   "execution_count": null,
   "metadata": {
    "colab": {
     "base_uri": "https://localhost:8080/"
    },
    "executionInfo": {
     "elapsed": 13,
     "status": "ok",
     "timestamp": 1730087934532,
     "user": {
      "displayName": "김민수",
      "userId": "14499279899039145671"
     },
     "user_tz": -540
    },
    "id": "q9oloj0ivF34",
    "outputId": "94ae244c-206e-4e88-bc8e-7904c06bd4b5"
   },
   "outputs": [
    {
     "name": "stdout",
     "output_type": "stream",
     "text": [
      "i love you\n",
      "I LOVE YOU\n"
     ]
    }
   ],
   "source": [
    "# 소문자로 변환\n",
    "sentence_lower = sentence.lower()\n",
    "print(sentence_lower)\n",
    "# 대문자로 변환\n",
    "sentence_upper = sentence.upper()\n",
    "print(sentence_upper)"
   ]
  },
  {
   "cell_type": "markdown",
   "metadata": {
    "id": "mumsXtg8ZzYc"
   },
   "source": [
    "## 6. 불용어 처리\n",
    "- 불용어(Stop words)는 텍스트 분석에서 큰 의미를 갖지 않는 단어들을 말합니다.\n",
    "- 자주 등장하지만 실제 분석에는 크게 기여하지 않습니다.\n",
    "- 불용어의 특징\n",
    "  1. 문장 구성에는 필수적이지만 문맥적 의미가 적음 (예: the, a, an, is, I, my 등)\n",
    "  2. 텍스트에 빈번하게 나타나 중요한 단어로 오인될 수 있음\n",
    "\n",
    "  <img src=\"https://nanx.me/image/wordcloud.png\" width=\"300\">\n",
    "  <img src=\"https://i.sstatic.net/POUqB.png\" witdh=\"300\">\n",
    "  \n",
    "  <불용어 처리 여부에 따른 워드클라우드 이미지 예시>"
   ]
  },
  {
   "cell_type": "code",
   "execution_count": null,
   "metadata": {
    "id": "Uan7ooQGalEE"
   },
   "outputs": [],
   "source": [
    "# NLTK 사용 (영어)\n",
    "from nltk.corpus import stopwords\n",
    "from nltk.tokenize import word_tokenize\n",
    "\n",
    "stop_words = set(stopwords.words('english'))\n",
    "text = \"This is an example sentence demonstrating stop word removal.\"\n",
    "tokens = word_tokenize(text)\n",
    "filtered_text = [word for word in tokens if word.lower() not in stop_words]\n",
    "\n",
    "print(filtered_text)"
   ]
  },
  {
   "cell_type": "code",
   "execution_count": null,
   "metadata": {
    "id": "vZ3EKhiaauIc"
   },
   "outputs": [],
   "source": [
    "# 사용자 정의 불용어 목록 사용 (한국어)\n",
    "stop_words = ['은', '는', '이', '가', '을', '를', '에', '의']\n",
    "text = \"자연어 처리는 컴퓨터 과학의 중요한 분야입니다.\"\n",
    "tokens = text.split()\n",
    "filtered_text = [word for word in tokens if word not in stop_words]\n",
    "\n",
    "print(filtered_text)"
   ]
  },
  {
   "cell_type": "code",
   "execution_count": null,
   "metadata": {
    "colab": {
     "base_uri": "https://localhost:8080/"
    },
    "executionInfo": {
     "elapsed": 11,
     "status": "ok",
     "timestamp": 1730087949108,
     "user": {
      "displayName": "김민수",
      "userId": "14499279899039145671"
     },
     "user_tz": -540
    },
    "id": "2Jj0RiGng7bV",
    "outputId": "7892bd70-5625-401e-f91a-436a77040e84"
   },
   "outputs": [
    {
     "name": "stdout",
     "output_type": "stream",
     "text": [
      "[('There', 'is'), ('is', 'no'), ('no', 'royal'), ('royal', 'road'), ('road', 'to'), ('to', 'learning')]\n"
     ]
    }
   ],
   "source": [
    "from nltk import ngrams\n",
    "\n",
    "sentence = 'There is no royal road to learning'\n",
    "bigram = list(ngrams(sentence.split(),2))\n",
    "print(bigram)"
   ]
  },
  {
   "cell_type": "code",
   "execution_count": null,
   "metadata": {
    "colab": {
     "base_uri": "https://localhost:8080/"
    },
    "executionInfo": {
     "elapsed": 9,
     "status": "ok",
     "timestamp": 1730087949108,
     "user": {
      "displayName": "김민수",
      "userId": "14499279899039145671"
     },
     "user_tz": -540
    },
    "id": "-sEZ6IfGh2q2",
    "outputId": "9a9d4102-d932-47ea-a1b1-c07c4f92c28a"
   },
   "outputs": [
    {
     "name": "stdout",
     "output_type": "stream",
     "text": [
      "[('There', 'is', 'no'), ('is', 'no', 'royal'), ('no', 'royal', 'road'), ('royal', 'road', 'to'), ('road', 'to', 'learning')]\n"
     ]
    }
   ],
   "source": [
    "trigram = list(ngrams(sentence.split(),3))\n",
    "print(trigram)"
   ]
  },
  {
   "cell_type": "code",
   "execution_count": null,
   "metadata": {
    "colab": {
     "base_uri": "https://localhost:8080/"
    },
    "executionInfo": {
     "elapsed": 9,
     "status": "ok",
     "timestamp": 1730087949108,
     "user": {
      "displayName": "김민수",
      "userId": "14499279899039145671"
     },
     "user_tz": -540
    },
    "id": "0g1yxT62iMvA",
    "outputId": "ba43727a-e24c-4e0a-875b-4b3e412cc64c"
   },
   "outputs": [
    {
     "data": {
      "text/plain": [
       "[WordList(['There', 'is']),\n",
       " WordList(['is', 'no']),\n",
       " WordList(['no', 'royal']),\n",
       " WordList(['royal', 'road']),\n",
       " WordList(['road', 'to']),\n",
       " WordList(['to', 'learning'])]"
      ]
     },
     "execution_count": 27,
     "metadata": {},
     "output_type": "execute_result"
    }
   ],
   "source": [
    "from textblob import TextBlob\n",
    "\n",
    "blob = TextBlob(sentence)\n",
    "blob.ngrams(n=2)"
   ]
  },
  {
   "cell_type": "code",
   "execution_count": null,
   "metadata": {
    "colab": {
     "base_uri": "https://localhost:8080/"
    },
    "executionInfo": {
     "elapsed": 7,
     "status": "ok",
     "timestamp": 1730087949108,
     "user": {
      "displayName": "김민수",
      "userId": "14499279899039145671"
     },
     "user_tz": -540
    },
    "id": "2hkjduP0idli",
    "outputId": "53c8c19a-b2b5-4427-a9c9-e4d7a75b44db"
   },
   "outputs": [
    {
     "data": {
      "text/plain": [
       "[WordList(['There', 'is', 'no']),\n",
       " WordList(['is', 'no', 'royal']),\n",
       " WordList(['no', 'royal', 'road']),\n",
       " WordList(['royal', 'road', 'to']),\n",
       " WordList(['road', 'to', 'learning'])]"
      ]
     },
     "execution_count": 28,
     "metadata": {},
     "output_type": "execute_result"
    }
   ],
   "source": [
    "from textblob import TextBlob\n",
    "\n",
    "blob = TextBlob(sentence)\n",
    "blob.ngrams(n=3)"
   ]
  },
  {
   "cell_type": "markdown",
   "metadata": {
    "id": "1iRYvPrOZbGQ"
   },
   "source": [
    "### PoS(Parts of Speech) 태깅"
   ]
  },
  {
   "cell_type": "markdown",
   "metadata": {
    "id": "2xRajzx4_5ng"
   },
   "source": [
    "* PoS는 품사를 의미하며, PoS 태깅은 문장 내에서 단어에 해당하는 각 품사를 태깅"
   ]
  },
  {
   "cell_type": "code",
   "execution_count": null,
   "metadata": {
    "colab": {
     "base_uri": "https://localhost:8080/"
    },
    "executionInfo": {
     "elapsed": 6,
     "status": "ok",
     "timestamp": 1730087949108,
     "user": {
      "displayName": "김민수",
      "userId": "14499279899039145671"
     },
     "user_tz": -540
    },
    "id": "Vo4n1kbt_4Pt",
    "outputId": "63ff377e-2a53-4d78-a20d-b17d38cd750e"
   },
   "outputs": [
    {
     "name": "stderr",
     "output_type": "stream",
     "text": [
      "[nltk_data] Downloading package punkt to /root/nltk_data...\n",
      "[nltk_data]   Package punkt is already up-to-date!\n"
     ]
    }
   ],
   "source": [
    "import nltk\n",
    "nltk.download('punkt')\n",
    "\n",
    "from nltk import word_tokenize"
   ]
  },
  {
   "cell_type": "markdown",
   "metadata": {
    "id": "5n2gkHk17NyC"
   },
   "source": [
    "## 문서 단어 행렬(DTM)"
   ]
  },
  {
   "cell_type": "markdown",
   "metadata": {
    "id": "F87rTUZs7S2p"
   },
   "source": [
    "문서 단어 행렬(Document-Term Matrix, DTM)은 여러 문서에서 등장하는 단어들의 출현 빈도를 하나의 행렬로 표현한 구조입니다.\n",
    "\n",
    "DTM의 주요 특징과 구성을 좀 더 자세히 설명하면 다음과 같습니다:\n",
    "\n",
    "- 행(row): 각 행은 하나의 문서를 나타냅니다.\n",
    "- 열(column): 각 열은 하나의 단어를 나타냅니다. 이 단어들은 전체 문서에서 등장한 고유 단어들로 구성된 단어 집합(vocabulary)에 해당합니다.\n",
    "- 값(value): 각 셀에 저장된 값은 특정 문서에서 특정 단어가 등장한 빈도를 의미합니다.\n",
    "\n",
    "구성 과정:\n",
    "먼저 전체 문서에서 등장하는 모든 단어를 추출하여 고유한 단어 집합을 만듭니다.\n",
    "각 문서에 대해 단어 집합에 포함된 각 단어의 출현 횟수를 세어 빈도를 기록합니다.\n",
    "이렇게 하면, 단어 집합의 크기만큼 열을 가진 행렬이 생성되며, 각 문서는 단어 출현 빈도로 벡터화됩니다\n",
    "\n",
    "장점: 문서를 고정된 길이의 벡터로 표현할 수 있어 머신러닝 모델에서 다루기 쉽습니다.\n",
    "\n",
    "단점: 단어 순서가 무시되므로 문맥을 파악하기 어렵고, 단어 집합 크기가 커질수록 행렬이 매우 커져 메모리 소모가 많습니다."
   ]
  },
  {
   "cell_type": "code",
   "execution_count": null,
   "metadata": {
    "colab": {
     "base_uri": "https://localhost:8080/"
    },
    "executionInfo": {
     "elapsed": 471,
     "status": "ok",
     "timestamp": 1730802973936,
     "user": {
      "displayName": "김민수",
      "userId": "14499279899039145671"
     },
     "user_tz": -540
    },
    "id": "c4pNYz6V7SO9",
    "outputId": "a50042da-45fa-40fb-8cc7-d71008bea909"
   },
   "outputs": [
    {
     "name": "stdout",
     "output_type": "stream",
     "text": [
      "[[0 0 0 1 1 1 0 0 1 0 0 0 0]\n",
      " [0 0 0 0 1 0 0 0 0 1 1 0 0]\n",
      " [1 0 0 1 0 1 0 0 1 0 0 0 0]\n",
      " [0 2 1 0 0 0 1 1 0 0 0 1 1]]\n",
      "{'love': 4, 'natural': 5, 'language': 3, 'processing': 8, 'programming': 9, 'python': 10, 'exciting': 0, 'harry': 2, 'potter': 7, 'series': 11, 'seven': 12, 'fantasy': 1, 'novels': 6}\n"
     ]
    }
   ],
   "source": [
    "from sklearn.feature_extraction.text import CountVectorizer\n",
    "\n",
    "corpus = [ \"I love natural language processing\",\n",
    "          \"I love programming in Python\",\n",
    "        \"natural language processing is exciting\",\n",
    "        \"Harry Potter is a series of seven fantasy fantasy novels\"]\n",
    "\n",
    "vector = CountVectorizer(stop_words='english')\n",
    "bow = vector.fit_transform(corpus)\n",
    "\n",
    "print(bow.toarray())\n",
    "print(vector.vocabulary_)"
   ]
  },
  {
   "cell_type": "code",
   "execution_count": null,
   "metadata": {
    "colab": {
     "base_uri": "https://localhost:8080/",
     "height": 175
    },
    "executionInfo": {
     "elapsed": 294,
     "status": "ok",
     "timestamp": 1730802976994,
     "user": {
      "displayName": "김민수",
      "userId": "14499279899039145671"
     },
     "user_tz": -540
    },
    "id": "cjS8GnjazrR7",
    "outputId": "eafd08cb-bc66-4b7d-f0e3-042d6bcc5d5d"
   },
   "outputs": [
    {
     "data": {
      "application/vnd.google.colaboratory.intrinsic+json": {
       "summary": "{\n  \"name\": \"pd\",\n  \"rows\": 4,\n  \"fields\": [\n    {\n      \"column\": \"exciting\",\n      \"properties\": {\n        \"dtype\": \"number\",\n        \"std\": 0,\n        \"min\": 0,\n        \"max\": 1,\n        \"num_unique_values\": 2,\n        \"samples\": [\n          1,\n          0\n        ],\n        \"semantic_type\": \"\",\n        \"description\": \"\"\n      }\n    },\n    {\n      \"column\": \"fantasy\",\n      \"properties\": {\n        \"dtype\": \"number\",\n        \"std\": 1,\n        \"min\": 0,\n        \"max\": 2,\n        \"num_unique_values\": 2,\n        \"samples\": [\n          2,\n          0\n        ],\n        \"semantic_type\": \"\",\n        \"description\": \"\"\n      }\n    },\n    {\n      \"column\": \"harry\",\n      \"properties\": {\n        \"dtype\": \"number\",\n        \"std\": 0,\n        \"min\": 0,\n        \"max\": 1,\n        \"num_unique_values\": 2,\n        \"samples\": [\n          1,\n          0\n        ],\n        \"semantic_type\": \"\",\n        \"description\": \"\"\n      }\n    },\n    {\n      \"column\": \"language\",\n      \"properties\": {\n        \"dtype\": \"number\",\n        \"std\": 0,\n        \"min\": 0,\n        \"max\": 1,\n        \"num_unique_values\": 2,\n        \"samples\": [\n          0,\n          1\n        ],\n        \"semantic_type\": \"\",\n        \"description\": \"\"\n      }\n    },\n    {\n      \"column\": \"love\",\n      \"properties\": {\n        \"dtype\": \"number\",\n        \"std\": 0,\n        \"min\": 0,\n        \"max\": 1,\n        \"num_unique_values\": 2,\n        \"samples\": [\n          0,\n          1\n        ],\n        \"semantic_type\": \"\",\n        \"description\": \"\"\n      }\n    },\n    {\n      \"column\": \"natural\",\n      \"properties\": {\n        \"dtype\": \"number\",\n        \"std\": 0,\n        \"min\": 0,\n        \"max\": 1,\n        \"num_unique_values\": 2,\n        \"samples\": [\n          0,\n          1\n        ],\n        \"semantic_type\": \"\",\n        \"description\": \"\"\n      }\n    },\n    {\n      \"column\": \"novels\",\n      \"properties\": {\n        \"dtype\": \"number\",\n        \"std\": 0,\n        \"min\": 0,\n        \"max\": 1,\n        \"num_unique_values\": 2,\n        \"samples\": [\n          1,\n          0\n        ],\n        \"semantic_type\": \"\",\n        \"description\": \"\"\n      }\n    },\n    {\n      \"column\": \"potter\",\n      \"properties\": {\n        \"dtype\": \"number\",\n        \"std\": 0,\n        \"min\": 0,\n        \"max\": 1,\n        \"num_unique_values\": 2,\n        \"samples\": [\n          1,\n          0\n        ],\n        \"semantic_type\": \"\",\n        \"description\": \"\"\n      }\n    },\n    {\n      \"column\": \"processing\",\n      \"properties\": {\n        \"dtype\": \"number\",\n        \"std\": 0,\n        \"min\": 0,\n        \"max\": 1,\n        \"num_unique_values\": 2,\n        \"samples\": [\n          0,\n          1\n        ],\n        \"semantic_type\": \"\",\n        \"description\": \"\"\n      }\n    },\n    {\n      \"column\": \"programming\",\n      \"properties\": {\n        \"dtype\": \"number\",\n        \"std\": 0,\n        \"min\": 0,\n        \"max\": 1,\n        \"num_unique_values\": 2,\n        \"samples\": [\n          1,\n          0\n        ],\n        \"semantic_type\": \"\",\n        \"description\": \"\"\n      }\n    },\n    {\n      \"column\": \"python\",\n      \"properties\": {\n        \"dtype\": \"number\",\n        \"std\": 0,\n        \"min\": 0,\n        \"max\": 1,\n        \"num_unique_values\": 2,\n        \"samples\": [\n          1,\n          0\n        ],\n        \"semantic_type\": \"\",\n        \"description\": \"\"\n      }\n    },\n    {\n      \"column\": \"series\",\n      \"properties\": {\n        \"dtype\": \"number\",\n        \"std\": 0,\n        \"min\": 0,\n        \"max\": 1,\n        \"num_unique_values\": 2,\n        \"samples\": [\n          1,\n          0\n        ],\n        \"semantic_type\": \"\",\n        \"description\": \"\"\n      }\n    },\n    {\n      \"column\": \"seven\",\n      \"properties\": {\n        \"dtype\": \"number\",\n        \"std\": 0,\n        \"min\": 0,\n        \"max\": 1,\n        \"num_unique_values\": 2,\n        \"samples\": [\n          1,\n          0\n        ],\n        \"semantic_type\": \"\",\n        \"description\": \"\"\n      }\n    }\n  ]\n}",
       "type": "dataframe"
      },
      "text/html": [
       "\n",
       "  <div id=\"df-0b19dd47-612b-4e55-8a2c-9bbf22560682\" class=\"colab-df-container\">\n",
       "    <div>\n",
       "<style scoped>\n",
       "    .dataframe tbody tr th:only-of-type {\n",
       "        vertical-align: middle;\n",
       "    }\n",
       "\n",
       "    .dataframe tbody tr th {\n",
       "        vertical-align: top;\n",
       "    }\n",
       "\n",
       "    .dataframe thead th {\n",
       "        text-align: right;\n",
       "    }\n",
       "</style>\n",
       "<table border=\"1\" class=\"dataframe\">\n",
       "  <thead>\n",
       "    <tr style=\"text-align: right;\">\n",
       "      <th></th>\n",
       "      <th>exciting</th>\n",
       "      <th>fantasy</th>\n",
       "      <th>harry</th>\n",
       "      <th>language</th>\n",
       "      <th>love</th>\n",
       "      <th>natural</th>\n",
       "      <th>novels</th>\n",
       "      <th>potter</th>\n",
       "      <th>processing</th>\n",
       "      <th>programming</th>\n",
       "      <th>python</th>\n",
       "      <th>series</th>\n",
       "      <th>seven</th>\n",
       "    </tr>\n",
       "  </thead>\n",
       "  <tbody>\n",
       "    <tr>\n",
       "      <th>0</th>\n",
       "      <td>0</td>\n",
       "      <td>0</td>\n",
       "      <td>0</td>\n",
       "      <td>1</td>\n",
       "      <td>1</td>\n",
       "      <td>1</td>\n",
       "      <td>0</td>\n",
       "      <td>0</td>\n",
       "      <td>1</td>\n",
       "      <td>0</td>\n",
       "      <td>0</td>\n",
       "      <td>0</td>\n",
       "      <td>0</td>\n",
       "    </tr>\n",
       "    <tr>\n",
       "      <th>1</th>\n",
       "      <td>0</td>\n",
       "      <td>0</td>\n",
       "      <td>0</td>\n",
       "      <td>0</td>\n",
       "      <td>1</td>\n",
       "      <td>0</td>\n",
       "      <td>0</td>\n",
       "      <td>0</td>\n",
       "      <td>0</td>\n",
       "      <td>1</td>\n",
       "      <td>1</td>\n",
       "      <td>0</td>\n",
       "      <td>0</td>\n",
       "    </tr>\n",
       "    <tr>\n",
       "      <th>2</th>\n",
       "      <td>1</td>\n",
       "      <td>0</td>\n",
       "      <td>0</td>\n",
       "      <td>1</td>\n",
       "      <td>0</td>\n",
       "      <td>1</td>\n",
       "      <td>0</td>\n",
       "      <td>0</td>\n",
       "      <td>1</td>\n",
       "      <td>0</td>\n",
       "      <td>0</td>\n",
       "      <td>0</td>\n",
       "      <td>0</td>\n",
       "    </tr>\n",
       "    <tr>\n",
       "      <th>3</th>\n",
       "      <td>0</td>\n",
       "      <td>2</td>\n",
       "      <td>1</td>\n",
       "      <td>0</td>\n",
       "      <td>0</td>\n",
       "      <td>0</td>\n",
       "      <td>1</td>\n",
       "      <td>1</td>\n",
       "      <td>0</td>\n",
       "      <td>0</td>\n",
       "      <td>0</td>\n",
       "      <td>1</td>\n",
       "      <td>1</td>\n",
       "    </tr>\n",
       "  </tbody>\n",
       "</table>\n",
       "</div>\n",
       "    <div class=\"colab-df-buttons\">\n",
       "\n",
       "  <div class=\"colab-df-container\">\n",
       "    <button class=\"colab-df-convert\" onclick=\"convertToInteractive('df-0b19dd47-612b-4e55-8a2c-9bbf22560682')\"\n",
       "            title=\"Convert this dataframe to an interactive table.\"\n",
       "            style=\"display:none;\">\n",
       "\n",
       "  <svg xmlns=\"http://www.w3.org/2000/svg\" height=\"24px\" viewBox=\"0 -960 960 960\">\n",
       "    <path d=\"M120-120v-720h720v720H120Zm60-500h600v-160H180v160Zm220 220h160v-160H400v160Zm0 220h160v-160H400v160ZM180-400h160v-160H180v160Zm440 0h160v-160H620v160ZM180-180h160v-160H180v160Zm440 0h160v-160H620v160Z\"/>\n",
       "  </svg>\n",
       "    </button>\n",
       "\n",
       "  <style>\n",
       "    .colab-df-container {\n",
       "      display:flex;\n",
       "      gap: 12px;\n",
       "    }\n",
       "\n",
       "    .colab-df-convert {\n",
       "      background-color: #E8F0FE;\n",
       "      border: none;\n",
       "      border-radius: 50%;\n",
       "      cursor: pointer;\n",
       "      display: none;\n",
       "      fill: #1967D2;\n",
       "      height: 32px;\n",
       "      padding: 0 0 0 0;\n",
       "      width: 32px;\n",
       "    }\n",
       "\n",
       "    .colab-df-convert:hover {\n",
       "      background-color: #E2EBFA;\n",
       "      box-shadow: 0px 1px 2px rgba(60, 64, 67, 0.3), 0px 1px 3px 1px rgba(60, 64, 67, 0.15);\n",
       "      fill: #174EA6;\n",
       "    }\n",
       "\n",
       "    .colab-df-buttons div {\n",
       "      margin-bottom: 4px;\n",
       "    }\n",
       "\n",
       "    [theme=dark] .colab-df-convert {\n",
       "      background-color: #3B4455;\n",
       "      fill: #D2E3FC;\n",
       "    }\n",
       "\n",
       "    [theme=dark] .colab-df-convert:hover {\n",
       "      background-color: #434B5C;\n",
       "      box-shadow: 0px 1px 3px 1px rgba(0, 0, 0, 0.15);\n",
       "      filter: drop-shadow(0px 1px 2px rgba(0, 0, 0, 0.3));\n",
       "      fill: #FFFFFF;\n",
       "    }\n",
       "  </style>\n",
       "\n",
       "    <script>\n",
       "      const buttonEl =\n",
       "        document.querySelector('#df-0b19dd47-612b-4e55-8a2c-9bbf22560682 button.colab-df-convert');\n",
       "      buttonEl.style.display =\n",
       "        google.colab.kernel.accessAllowed ? 'block' : 'none';\n",
       "\n",
       "      async function convertToInteractive(key) {\n",
       "        const element = document.querySelector('#df-0b19dd47-612b-4e55-8a2c-9bbf22560682');\n",
       "        const dataTable =\n",
       "          await google.colab.kernel.invokeFunction('convertToInteractive',\n",
       "                                                    [key], {});\n",
       "        if (!dataTable) return;\n",
       "\n",
       "        const docLinkHtml = 'Like what you see? Visit the ' +\n",
       "          '<a target=\"_blank\" href=https://colab.research.google.com/notebooks/data_table.ipynb>data table notebook</a>'\n",
       "          + ' to learn more about interactive tables.';\n",
       "        element.innerHTML = '';\n",
       "        dataTable['output_type'] = 'display_data';\n",
       "        await google.colab.output.renderOutput(dataTable, element);\n",
       "        const docLink = document.createElement('div');\n",
       "        docLink.innerHTML = docLinkHtml;\n",
       "        element.appendChild(docLink);\n",
       "      }\n",
       "    </script>\n",
       "  </div>\n",
       "\n",
       "\n",
       "<div id=\"df-0f8e0628-52b8-4bb1-a9dc-5eb5f23188a0\">\n",
       "  <button class=\"colab-df-quickchart\" onclick=\"quickchart('df-0f8e0628-52b8-4bb1-a9dc-5eb5f23188a0')\"\n",
       "            title=\"Suggest charts\"\n",
       "            style=\"display:none;\">\n",
       "\n",
       "<svg xmlns=\"http://www.w3.org/2000/svg\" height=\"24px\"viewBox=\"0 0 24 24\"\n",
       "     width=\"24px\">\n",
       "    <g>\n",
       "        <path d=\"M19 3H5c-1.1 0-2 .9-2 2v14c0 1.1.9 2 2 2h14c1.1 0 2-.9 2-2V5c0-1.1-.9-2-2-2zM9 17H7v-7h2v7zm4 0h-2V7h2v10zm4 0h-2v-4h2v4z\"/>\n",
       "    </g>\n",
       "</svg>\n",
       "  </button>\n",
       "\n",
       "<style>\n",
       "  .colab-df-quickchart {\n",
       "      --bg-color: #E8F0FE;\n",
       "      --fill-color: #1967D2;\n",
       "      --hover-bg-color: #E2EBFA;\n",
       "      --hover-fill-color: #174EA6;\n",
       "      --disabled-fill-color: #AAA;\n",
       "      --disabled-bg-color: #DDD;\n",
       "  }\n",
       "\n",
       "  [theme=dark] .colab-df-quickchart {\n",
       "      --bg-color: #3B4455;\n",
       "      --fill-color: #D2E3FC;\n",
       "      --hover-bg-color: #434B5C;\n",
       "      --hover-fill-color: #FFFFFF;\n",
       "      --disabled-bg-color: #3B4455;\n",
       "      --disabled-fill-color: #666;\n",
       "  }\n",
       "\n",
       "  .colab-df-quickchart {\n",
       "    background-color: var(--bg-color);\n",
       "    border: none;\n",
       "    border-radius: 50%;\n",
       "    cursor: pointer;\n",
       "    display: none;\n",
       "    fill: var(--fill-color);\n",
       "    height: 32px;\n",
       "    padding: 0;\n",
       "    width: 32px;\n",
       "  }\n",
       "\n",
       "  .colab-df-quickchart:hover {\n",
       "    background-color: var(--hover-bg-color);\n",
       "    box-shadow: 0 1px 2px rgba(60, 64, 67, 0.3), 0 1px 3px 1px rgba(60, 64, 67, 0.15);\n",
       "    fill: var(--button-hover-fill-color);\n",
       "  }\n",
       "\n",
       "  .colab-df-quickchart-complete:disabled,\n",
       "  .colab-df-quickchart-complete:disabled:hover {\n",
       "    background-color: var(--disabled-bg-color);\n",
       "    fill: var(--disabled-fill-color);\n",
       "    box-shadow: none;\n",
       "  }\n",
       "\n",
       "  .colab-df-spinner {\n",
       "    border: 2px solid var(--fill-color);\n",
       "    border-color: transparent;\n",
       "    border-bottom-color: var(--fill-color);\n",
       "    animation:\n",
       "      spin 1s steps(1) infinite;\n",
       "  }\n",
       "\n",
       "  @keyframes spin {\n",
       "    0% {\n",
       "      border-color: transparent;\n",
       "      border-bottom-color: var(--fill-color);\n",
       "      border-left-color: var(--fill-color);\n",
       "    }\n",
       "    20% {\n",
       "      border-color: transparent;\n",
       "      border-left-color: var(--fill-color);\n",
       "      border-top-color: var(--fill-color);\n",
       "    }\n",
       "    30% {\n",
       "      border-color: transparent;\n",
       "      border-left-color: var(--fill-color);\n",
       "      border-top-color: var(--fill-color);\n",
       "      border-right-color: var(--fill-color);\n",
       "    }\n",
       "    40% {\n",
       "      border-color: transparent;\n",
       "      border-right-color: var(--fill-color);\n",
       "      border-top-color: var(--fill-color);\n",
       "    }\n",
       "    60% {\n",
       "      border-color: transparent;\n",
       "      border-right-color: var(--fill-color);\n",
       "    }\n",
       "    80% {\n",
       "      border-color: transparent;\n",
       "      border-right-color: var(--fill-color);\n",
       "      border-bottom-color: var(--fill-color);\n",
       "    }\n",
       "    90% {\n",
       "      border-color: transparent;\n",
       "      border-bottom-color: var(--fill-color);\n",
       "    }\n",
       "  }\n",
       "</style>\n",
       "\n",
       "  <script>\n",
       "    async function quickchart(key) {\n",
       "      const quickchartButtonEl =\n",
       "        document.querySelector('#' + key + ' button');\n",
       "      quickchartButtonEl.disabled = true;  // To prevent multiple clicks.\n",
       "      quickchartButtonEl.classList.add('colab-df-spinner');\n",
       "      try {\n",
       "        const charts = await google.colab.kernel.invokeFunction(\n",
       "            'suggestCharts', [key], {});\n",
       "      } catch (error) {\n",
       "        console.error('Error during call to suggestCharts:', error);\n",
       "      }\n",
       "      quickchartButtonEl.classList.remove('colab-df-spinner');\n",
       "      quickchartButtonEl.classList.add('colab-df-quickchart-complete');\n",
       "    }\n",
       "    (() => {\n",
       "      let quickchartButtonEl =\n",
       "        document.querySelector('#df-0f8e0628-52b8-4bb1-a9dc-5eb5f23188a0 button');\n",
       "      quickchartButtonEl.style.display =\n",
       "        google.colab.kernel.accessAllowed ? 'block' : 'none';\n",
       "    })();\n",
       "  </script>\n",
       "</div>\n",
       "\n",
       "    </div>\n",
       "  </div>\n"
      ],
      "text/plain": [
       "   exciting  fantasy  harry  language  love  natural  novels  potter  \\\n",
       "0         0        0      0         1     1        1       0       0   \n",
       "1         0        0      0         0     1        0       0       0   \n",
       "2         1        0      0         1     0        1       0       0   \n",
       "3         0        2      1         0     0        0       1       1   \n",
       "\n",
       "   processing  programming  python  series  seven  \n",
       "0           1            0       0       0      0  \n",
       "1           0            1       1       0      0  \n",
       "2           1            0       0       0      0  \n",
       "3           0            0       0       1      1  "
      ]
     },
     "execution_count": 77,
     "metadata": {},
     "output_type": "execute_result"
    }
   ],
   "source": [
    "import pandas as pd\n",
    "pd.DataFrame(bow.toarray(), columns=vector.get_feature_names_out())"
   ]
  },
  {
   "cell_type": "markdown",
   "metadata": {
    "id": "_z-bPw94FTGb"
   },
   "source": [
    "## 어휘 빈도-문서 역빈도(TF-IDF) 분석"
   ]
  },
  {
   "cell_type": "markdown",
   "metadata": {
    "id": "R76c7RRQ4LM7"
   },
   "source": [
    "- TF-IDF(Term Frequency - Inverse Document Frequency)는 정보 검색과 텍스트 마이닝에서 이용하는 가중치로, 여러 문서로 이루어진 문서군이 있을 때 어떤 단어가 특정 문서 내에서 얼마나 중요한 것인지를 나타내는 통계적 수치이다.\n",
    "\n",
    "- 문서의 핵심어를 추출하거나, 검색 엔진에서 검색 결과의 순위를 결정하거나, 문서들 사이의 비슷한 정도를 구하는 등의 용도로 사용할 수 있다."
   ]
  },
  {
   "cell_type": "markdown",
   "metadata": {
    "id": "s7wTnMY8JEDC"
   },
   "source": [
    "* **어휘 빈도**는 특정 문서에서 특정 단어가 많이 등장하는 것을 의미\n",
    "\n",
    "$$ tf_{x,y} $$"
   ]
  },
  {
   "cell_type": "markdown",
   "metadata": {
    "id": "R8289-mSJF1p"
   },
   "source": [
    "* **역문서 빈도**는 다른 문서에서 등장하지 않는 단어 빈도를 의미\n",
    "\n",
    "$$ log(N/df_x) $$      "
   ]
  },
  {
   "cell_type": "markdown",
   "metadata": {
    "id": "3MyZYLgRJH8R"
   },
   "source": [
    "* **어휘 빈도-문서 역빈도**는 다음과 같이 표현\n",
    "\n",
    "$$ W_{x,y} = tf_{x,y} * log(N/df_x) $$"
   ]
  },
  {
   "cell_type": "markdown",
   "metadata": {
    "id": "AD-c5pmoj1bj"
   },
   "source": [
    "- 따라서 특정 단어의 tf-idf 값이 높다면 해당 단어는 다른 문서에는 잘 등장하지 않으며, 해당 문서에서 자주 등장하는 핵심어일 수 있음."
   ]
  },
  {
   "cell_type": "markdown",
   "metadata": {
    "id": "cv_23ugcKMjS"
   },
   "source": [
    "* tf-idf를 편리하게 계산하기 위해 `scikit-learn`의 `tfidfvectorizer`를 이용\n",
    "* 앞서 계산한 단어 빈도 수를 입력하여 tf-idf로 변환"
   ]
  },
  {
   "cell_type": "code",
   "execution_count": null,
   "metadata": {
    "colab": {
     "base_uri": "https://localhost:8080/"
    },
    "executionInfo": {
     "elapsed": 343,
     "status": "ok",
     "timestamp": 1730802377479,
     "user": {
      "displayName": "김민수",
      "userId": "14499279899039145671"
     },
     "user_tz": -540
    },
    "id": "a4FQEX_02-y8",
    "outputId": "9122d7f4-a914-4862-aa3f-1a546a899953"
   },
   "outputs": [
    {
     "data": {
      "text/plain": [
       "dict_keys(['love', 'natural', 'language', 'processing', 'programming', 'python', 'exciting'])"
      ]
     },
     "execution_count": 61,
     "metadata": {},
     "output_type": "execute_result"
    }
   ],
   "source": [
    "vector.vocabulary_.keys()"
   ]
  },
  {
   "cell_type": "code",
   "execution_count": null,
   "metadata": {
    "colab": {
     "base_uri": "https://localhost:8080/"
    },
    "executionInfo": {
     "elapsed": 397,
     "status": "ok",
     "timestamp": 1730802985052,
     "user": {
      "displayName": "김민수",
      "userId": "14499279899039145671"
     },
     "user_tz": -540
    },
    "id": "JH25kuy-J8cj",
    "outputId": "78a9bb79-0886-41b6-eca2-04130ad530d3"
   },
   "outputs": [
    {
     "name": "stdout",
     "output_type": "stream",
     "text": [
      "[[0.         0.         0.         0.5        0.5        0.5\n",
      "  0.         0.         0.5        0.         0.         0.\n",
      "  0.        ]\n",
      " [0.         0.         0.         0.         0.48693426 0.\n",
      "  0.         0.         0.         0.61761437 0.61761437 0.\n",
      "  0.        ]\n",
      " [0.59081908 0.         0.         0.46580855 0.         0.46580855\n",
      "  0.         0.         0.46580855 0.         0.         0.\n",
      "  0.        ]\n",
      " [0.         0.66666667 0.33333333 0.         0.         0.\n",
      "  0.33333333 0.33333333 0.         0.         0.         0.33333333\n",
      "  0.33333333]]\n",
      "{'love': 4, 'natural': 5, 'language': 3, 'processing': 8, 'programming': 9, 'python': 10, 'exciting': 0, 'harry': 2, 'potter': 7, 'series': 11, 'seven': 12, 'fantasy': 1, 'novels': 6}\n"
     ]
    }
   ],
   "source": [
    "from sklearn.feature_extraction.text import TfidfVectorizer\n",
    "\n",
    "corpus = [ \"I love natural language processing\",\n",
    "          \"I love programming in Python\",\n",
    "        \"natural language processing is exciting\",\n",
    "        \"Harry Potter is a series of seven fantasy fantasy novels\"]\n",
    "\n",
    "tfidf = TfidfVectorizer(stop_words='english').fit(corpus)\n",
    "\n",
    "print(tfidf.transform(corpus).toarray())\n",
    "print(tfidf.vocabulary_)"
   ]
  },
  {
   "cell_type": "markdown",
   "metadata": {
    "id": "eoGurU81KqYD"
   },
   "source": [
    "* 좀 더 편리하게 확인하기 위해 데이터프레임으로 변환"
   ]
  },
  {
   "cell_type": "code",
   "execution_count": null,
   "metadata": {
    "colab": {
     "base_uri": "https://localhost:8080/",
     "height": 175
    },
    "executionInfo": {
     "elapsed": 418,
     "status": "ok",
     "timestamp": 1730802989135,
     "user": {
      "displayName": "김민수",
      "userId": "14499279899039145671"
     },
     "user_tz": -540
    },
    "id": "uSjYYeDBKGEr",
    "outputId": "a8604877-c4bc-4cb9-bfd9-d975a0a0e911"
   },
   "outputs": [
    {
     "data": {
      "application/vnd.google.colaboratory.intrinsic+json": {
       "summary": "{\n  \"name\": \"pd\",\n  \"rows\": 4,\n  \"fields\": [\n    {\n      \"column\": \"exciting\",\n      \"properties\": {\n        \"dtype\": \"number\",\n        \"std\": 0.29540954030116745,\n        \"min\": 0.0,\n        \"max\": 0.5908190806023349,\n        \"num_unique_values\": 2,\n        \"samples\": [\n          0.5908190806023349,\n          0.0\n        ],\n        \"semantic_type\": \"\",\n        \"description\": \"\"\n      }\n    },\n    {\n      \"column\": \"fantasy\",\n      \"properties\": {\n        \"dtype\": \"number\",\n        \"std\": 0.3333333333333333,\n        \"min\": 0.0,\n        \"max\": 0.6666666666666666,\n        \"num_unique_values\": 2,\n        \"samples\": [\n          0.6666666666666666,\n          0.0\n        ],\n        \"semantic_type\": \"\",\n        \"description\": \"\"\n      }\n    },\n    {\n      \"column\": \"harry\",\n      \"properties\": {\n        \"dtype\": \"number\",\n        \"std\": 0.16666666666666666,\n        \"min\": 0.0,\n        \"max\": 0.3333333333333333,\n        \"num_unique_values\": 2,\n        \"samples\": [\n          0.3333333333333333,\n          0.0\n        ],\n        \"semantic_type\": \"\",\n        \"description\": \"\"\n      }\n    },\n    {\n      \"column\": \"language\",\n      \"properties\": {\n        \"dtype\": \"number\",\n        \"std\": 0.2791541188165671,\n        \"min\": 0.0,\n        \"max\": 0.5,\n        \"num_unique_values\": 3,\n        \"samples\": [\n          0.5,\n          0.0\n        ],\n        \"semantic_type\": \"\",\n        \"description\": \"\"\n      }\n    },\n    {\n      \"column\": \"love\",\n      \"properties\": {\n        \"dtype\": \"number\",\n        \"std\": 0.2849533102856423,\n        \"min\": 0.0,\n        \"max\": 0.5,\n        \"num_unique_values\": 3,\n        \"samples\": [\n          0.5,\n          0.48693426407352264\n        ],\n        \"semantic_type\": \"\",\n        \"description\": \"\"\n      }\n    },\n    {\n      \"column\": \"natural\",\n      \"properties\": {\n        \"dtype\": \"number\",\n        \"std\": 0.2791541188165671,\n        \"min\": 0.0,\n        \"max\": 0.5,\n        \"num_unique_values\": 3,\n        \"samples\": [\n          0.5,\n          0.0\n        ],\n        \"semantic_type\": \"\",\n        \"description\": \"\"\n      }\n    },\n    {\n      \"column\": \"novels\",\n      \"properties\": {\n        \"dtype\": \"number\",\n        \"std\": 0.16666666666666666,\n        \"min\": 0.0,\n        \"max\": 0.3333333333333333,\n        \"num_unique_values\": 2,\n        \"samples\": [\n          0.3333333333333333,\n          0.0\n        ],\n        \"semantic_type\": \"\",\n        \"description\": \"\"\n      }\n    },\n    {\n      \"column\": \"potter\",\n      \"properties\": {\n        \"dtype\": \"number\",\n        \"std\": 0.16666666666666666,\n        \"min\": 0.0,\n        \"max\": 0.3333333333333333,\n        \"num_unique_values\": 2,\n        \"samples\": [\n          0.3333333333333333,\n          0.0\n        ],\n        \"semantic_type\": \"\",\n        \"description\": \"\"\n      }\n    },\n    {\n      \"column\": \"processing\",\n      \"properties\": {\n        \"dtype\": \"number\",\n        \"std\": 0.2791541188165671,\n        \"min\": 0.0,\n        \"max\": 0.5,\n        \"num_unique_values\": 3,\n        \"samples\": [\n          0.5,\n          0.0\n        ],\n        \"semantic_type\": \"\",\n        \"description\": \"\"\n      }\n    },\n    {\n      \"column\": \"programming\",\n      \"properties\": {\n        \"dtype\": \"number\",\n        \"std\": 0.30880718548780095,\n        \"min\": 0.0,\n        \"max\": 0.6176143709756019,\n        \"num_unique_values\": 2,\n        \"samples\": [\n          0.6176143709756019,\n          0.0\n        ],\n        \"semantic_type\": \"\",\n        \"description\": \"\"\n      }\n    },\n    {\n      \"column\": \"python\",\n      \"properties\": {\n        \"dtype\": \"number\",\n        \"std\": 0.30880718548780095,\n        \"min\": 0.0,\n        \"max\": 0.6176143709756019,\n        \"num_unique_values\": 2,\n        \"samples\": [\n          0.6176143709756019,\n          0.0\n        ],\n        \"semantic_type\": \"\",\n        \"description\": \"\"\n      }\n    },\n    {\n      \"column\": \"series\",\n      \"properties\": {\n        \"dtype\": \"number\",\n        \"std\": 0.16666666666666666,\n        \"min\": 0.0,\n        \"max\": 0.3333333333333333,\n        \"num_unique_values\": 2,\n        \"samples\": [\n          0.3333333333333333,\n          0.0\n        ],\n        \"semantic_type\": \"\",\n        \"description\": \"\"\n      }\n    },\n    {\n      \"column\": \"seven\",\n      \"properties\": {\n        \"dtype\": \"number\",\n        \"std\": 0.16666666666666666,\n        \"min\": 0.0,\n        \"max\": 0.3333333333333333,\n        \"num_unique_values\": 2,\n        \"samples\": [\n          0.3333333333333333,\n          0.0\n        ],\n        \"semantic_type\": \"\",\n        \"description\": \"\"\n      }\n    }\n  ]\n}",
       "type": "dataframe"
      },
      "text/html": [
       "\n",
       "  <div id=\"df-68fae38b-d6d8-4b1d-87ae-3b96bc1ecd43\" class=\"colab-df-container\">\n",
       "    <div>\n",
       "<style scoped>\n",
       "    .dataframe tbody tr th:only-of-type {\n",
       "        vertical-align: middle;\n",
       "    }\n",
       "\n",
       "    .dataframe tbody tr th {\n",
       "        vertical-align: top;\n",
       "    }\n",
       "\n",
       "    .dataframe thead th {\n",
       "        text-align: right;\n",
       "    }\n",
       "</style>\n",
       "<table border=\"1\" class=\"dataframe\">\n",
       "  <thead>\n",
       "    <tr style=\"text-align: right;\">\n",
       "      <th></th>\n",
       "      <th>exciting</th>\n",
       "      <th>fantasy</th>\n",
       "      <th>harry</th>\n",
       "      <th>language</th>\n",
       "      <th>love</th>\n",
       "      <th>natural</th>\n",
       "      <th>novels</th>\n",
       "      <th>potter</th>\n",
       "      <th>processing</th>\n",
       "      <th>programming</th>\n",
       "      <th>python</th>\n",
       "      <th>series</th>\n",
       "      <th>seven</th>\n",
       "    </tr>\n",
       "  </thead>\n",
       "  <tbody>\n",
       "    <tr>\n",
       "      <th>0</th>\n",
       "      <td>0.000000</td>\n",
       "      <td>0.000000</td>\n",
       "      <td>0.000000</td>\n",
       "      <td>0.500000</td>\n",
       "      <td>0.500000</td>\n",
       "      <td>0.500000</td>\n",
       "      <td>0.000000</td>\n",
       "      <td>0.000000</td>\n",
       "      <td>0.500000</td>\n",
       "      <td>0.000000</td>\n",
       "      <td>0.000000</td>\n",
       "      <td>0.000000</td>\n",
       "      <td>0.000000</td>\n",
       "    </tr>\n",
       "    <tr>\n",
       "      <th>1</th>\n",
       "      <td>0.000000</td>\n",
       "      <td>0.000000</td>\n",
       "      <td>0.000000</td>\n",
       "      <td>0.000000</td>\n",
       "      <td>0.486934</td>\n",
       "      <td>0.000000</td>\n",
       "      <td>0.000000</td>\n",
       "      <td>0.000000</td>\n",
       "      <td>0.000000</td>\n",
       "      <td>0.617614</td>\n",
       "      <td>0.617614</td>\n",
       "      <td>0.000000</td>\n",
       "      <td>0.000000</td>\n",
       "    </tr>\n",
       "    <tr>\n",
       "      <th>2</th>\n",
       "      <td>0.590819</td>\n",
       "      <td>0.000000</td>\n",
       "      <td>0.000000</td>\n",
       "      <td>0.465809</td>\n",
       "      <td>0.000000</td>\n",
       "      <td>0.465809</td>\n",
       "      <td>0.000000</td>\n",
       "      <td>0.000000</td>\n",
       "      <td>0.465809</td>\n",
       "      <td>0.000000</td>\n",
       "      <td>0.000000</td>\n",
       "      <td>0.000000</td>\n",
       "      <td>0.000000</td>\n",
       "    </tr>\n",
       "    <tr>\n",
       "      <th>3</th>\n",
       "      <td>0.000000</td>\n",
       "      <td>0.666667</td>\n",
       "      <td>0.333333</td>\n",
       "      <td>0.000000</td>\n",
       "      <td>0.000000</td>\n",
       "      <td>0.000000</td>\n",
       "      <td>0.333333</td>\n",
       "      <td>0.333333</td>\n",
       "      <td>0.000000</td>\n",
       "      <td>0.000000</td>\n",
       "      <td>0.000000</td>\n",
       "      <td>0.333333</td>\n",
       "      <td>0.333333</td>\n",
       "    </tr>\n",
       "  </tbody>\n",
       "</table>\n",
       "</div>\n",
       "    <div class=\"colab-df-buttons\">\n",
       "\n",
       "  <div class=\"colab-df-container\">\n",
       "    <button class=\"colab-df-convert\" onclick=\"convertToInteractive('df-68fae38b-d6d8-4b1d-87ae-3b96bc1ecd43')\"\n",
       "            title=\"Convert this dataframe to an interactive table.\"\n",
       "            style=\"display:none;\">\n",
       "\n",
       "  <svg xmlns=\"http://www.w3.org/2000/svg\" height=\"24px\" viewBox=\"0 -960 960 960\">\n",
       "    <path d=\"M120-120v-720h720v720H120Zm60-500h600v-160H180v160Zm220 220h160v-160H400v160Zm0 220h160v-160H400v160ZM180-400h160v-160H180v160Zm440 0h160v-160H620v160ZM180-180h160v-160H180v160Zm440 0h160v-160H620v160Z\"/>\n",
       "  </svg>\n",
       "    </button>\n",
       "\n",
       "  <style>\n",
       "    .colab-df-container {\n",
       "      display:flex;\n",
       "      gap: 12px;\n",
       "    }\n",
       "\n",
       "    .colab-df-convert {\n",
       "      background-color: #E8F0FE;\n",
       "      border: none;\n",
       "      border-radius: 50%;\n",
       "      cursor: pointer;\n",
       "      display: none;\n",
       "      fill: #1967D2;\n",
       "      height: 32px;\n",
       "      padding: 0 0 0 0;\n",
       "      width: 32px;\n",
       "    }\n",
       "\n",
       "    .colab-df-convert:hover {\n",
       "      background-color: #E2EBFA;\n",
       "      box-shadow: 0px 1px 2px rgba(60, 64, 67, 0.3), 0px 1px 3px 1px rgba(60, 64, 67, 0.15);\n",
       "      fill: #174EA6;\n",
       "    }\n",
       "\n",
       "    .colab-df-buttons div {\n",
       "      margin-bottom: 4px;\n",
       "    }\n",
       "\n",
       "    [theme=dark] .colab-df-convert {\n",
       "      background-color: #3B4455;\n",
       "      fill: #D2E3FC;\n",
       "    }\n",
       "\n",
       "    [theme=dark] .colab-df-convert:hover {\n",
       "      background-color: #434B5C;\n",
       "      box-shadow: 0px 1px 3px 1px rgba(0, 0, 0, 0.15);\n",
       "      filter: drop-shadow(0px 1px 2px rgba(0, 0, 0, 0.3));\n",
       "      fill: #FFFFFF;\n",
       "    }\n",
       "  </style>\n",
       "\n",
       "    <script>\n",
       "      const buttonEl =\n",
       "        document.querySelector('#df-68fae38b-d6d8-4b1d-87ae-3b96bc1ecd43 button.colab-df-convert');\n",
       "      buttonEl.style.display =\n",
       "        google.colab.kernel.accessAllowed ? 'block' : 'none';\n",
       "\n",
       "      async function convertToInteractive(key) {\n",
       "        const element = document.querySelector('#df-68fae38b-d6d8-4b1d-87ae-3b96bc1ecd43');\n",
       "        const dataTable =\n",
       "          await google.colab.kernel.invokeFunction('convertToInteractive',\n",
       "                                                    [key], {});\n",
       "        if (!dataTable) return;\n",
       "\n",
       "        const docLinkHtml = 'Like what you see? Visit the ' +\n",
       "          '<a target=\"_blank\" href=https://colab.research.google.com/notebooks/data_table.ipynb>data table notebook</a>'\n",
       "          + ' to learn more about interactive tables.';\n",
       "        element.innerHTML = '';\n",
       "        dataTable['output_type'] = 'display_data';\n",
       "        await google.colab.output.renderOutput(dataTable, element);\n",
       "        const docLink = document.createElement('div');\n",
       "        docLink.innerHTML = docLinkHtml;\n",
       "        element.appendChild(docLink);\n",
       "      }\n",
       "    </script>\n",
       "  </div>\n",
       "\n",
       "\n",
       "<div id=\"df-31108c2c-3080-4f2f-8819-7b2f8acd29a0\">\n",
       "  <button class=\"colab-df-quickchart\" onclick=\"quickchart('df-31108c2c-3080-4f2f-8819-7b2f8acd29a0')\"\n",
       "            title=\"Suggest charts\"\n",
       "            style=\"display:none;\">\n",
       "\n",
       "<svg xmlns=\"http://www.w3.org/2000/svg\" height=\"24px\"viewBox=\"0 0 24 24\"\n",
       "     width=\"24px\">\n",
       "    <g>\n",
       "        <path d=\"M19 3H5c-1.1 0-2 .9-2 2v14c0 1.1.9 2 2 2h14c1.1 0 2-.9 2-2V5c0-1.1-.9-2-2-2zM9 17H7v-7h2v7zm4 0h-2V7h2v10zm4 0h-2v-4h2v4z\"/>\n",
       "    </g>\n",
       "</svg>\n",
       "  </button>\n",
       "\n",
       "<style>\n",
       "  .colab-df-quickchart {\n",
       "      --bg-color: #E8F0FE;\n",
       "      --fill-color: #1967D2;\n",
       "      --hover-bg-color: #E2EBFA;\n",
       "      --hover-fill-color: #174EA6;\n",
       "      --disabled-fill-color: #AAA;\n",
       "      --disabled-bg-color: #DDD;\n",
       "  }\n",
       "\n",
       "  [theme=dark] .colab-df-quickchart {\n",
       "      --bg-color: #3B4455;\n",
       "      --fill-color: #D2E3FC;\n",
       "      --hover-bg-color: #434B5C;\n",
       "      --hover-fill-color: #FFFFFF;\n",
       "      --disabled-bg-color: #3B4455;\n",
       "      --disabled-fill-color: #666;\n",
       "  }\n",
       "\n",
       "  .colab-df-quickchart {\n",
       "    background-color: var(--bg-color);\n",
       "    border: none;\n",
       "    border-radius: 50%;\n",
       "    cursor: pointer;\n",
       "    display: none;\n",
       "    fill: var(--fill-color);\n",
       "    height: 32px;\n",
       "    padding: 0;\n",
       "    width: 32px;\n",
       "  }\n",
       "\n",
       "  .colab-df-quickchart:hover {\n",
       "    background-color: var(--hover-bg-color);\n",
       "    box-shadow: 0 1px 2px rgba(60, 64, 67, 0.3), 0 1px 3px 1px rgba(60, 64, 67, 0.15);\n",
       "    fill: var(--button-hover-fill-color);\n",
       "  }\n",
       "\n",
       "  .colab-df-quickchart-complete:disabled,\n",
       "  .colab-df-quickchart-complete:disabled:hover {\n",
       "    background-color: var(--disabled-bg-color);\n",
       "    fill: var(--disabled-fill-color);\n",
       "    box-shadow: none;\n",
       "  }\n",
       "\n",
       "  .colab-df-spinner {\n",
       "    border: 2px solid var(--fill-color);\n",
       "    border-color: transparent;\n",
       "    border-bottom-color: var(--fill-color);\n",
       "    animation:\n",
       "      spin 1s steps(1) infinite;\n",
       "  }\n",
       "\n",
       "  @keyframes spin {\n",
       "    0% {\n",
       "      border-color: transparent;\n",
       "      border-bottom-color: var(--fill-color);\n",
       "      border-left-color: var(--fill-color);\n",
       "    }\n",
       "    20% {\n",
       "      border-color: transparent;\n",
       "      border-left-color: var(--fill-color);\n",
       "      border-top-color: var(--fill-color);\n",
       "    }\n",
       "    30% {\n",
       "      border-color: transparent;\n",
       "      border-left-color: var(--fill-color);\n",
       "      border-top-color: var(--fill-color);\n",
       "      border-right-color: var(--fill-color);\n",
       "    }\n",
       "    40% {\n",
       "      border-color: transparent;\n",
       "      border-right-color: var(--fill-color);\n",
       "      border-top-color: var(--fill-color);\n",
       "    }\n",
       "    60% {\n",
       "      border-color: transparent;\n",
       "      border-right-color: var(--fill-color);\n",
       "    }\n",
       "    80% {\n",
       "      border-color: transparent;\n",
       "      border-right-color: var(--fill-color);\n",
       "      border-bottom-color: var(--fill-color);\n",
       "    }\n",
       "    90% {\n",
       "      border-color: transparent;\n",
       "      border-bottom-color: var(--fill-color);\n",
       "    }\n",
       "  }\n",
       "</style>\n",
       "\n",
       "  <script>\n",
       "    async function quickchart(key) {\n",
       "      const quickchartButtonEl =\n",
       "        document.querySelector('#' + key + ' button');\n",
       "      quickchartButtonEl.disabled = true;  // To prevent multiple clicks.\n",
       "      quickchartButtonEl.classList.add('colab-df-spinner');\n",
       "      try {\n",
       "        const charts = await google.colab.kernel.invokeFunction(\n",
       "            'suggestCharts', [key], {});\n",
       "      } catch (error) {\n",
       "        console.error('Error during call to suggestCharts:', error);\n",
       "      }\n",
       "      quickchartButtonEl.classList.remove('colab-df-spinner');\n",
       "      quickchartButtonEl.classList.add('colab-df-quickchart-complete');\n",
       "    }\n",
       "    (() => {\n",
       "      let quickchartButtonEl =\n",
       "        document.querySelector('#df-31108c2c-3080-4f2f-8819-7b2f8acd29a0 button');\n",
       "      quickchartButtonEl.style.display =\n",
       "        google.colab.kernel.accessAllowed ? 'block' : 'none';\n",
       "    })();\n",
       "  </script>\n",
       "</div>\n",
       "\n",
       "    </div>\n",
       "  </div>\n"
      ],
      "text/plain": [
       "   exciting   fantasy     harry  language      love   natural    novels  \\\n",
       "0  0.000000  0.000000  0.000000  0.500000  0.500000  0.500000  0.000000   \n",
       "1  0.000000  0.000000  0.000000  0.000000  0.486934  0.000000  0.000000   \n",
       "2  0.590819  0.000000  0.000000  0.465809  0.000000  0.465809  0.000000   \n",
       "3  0.000000  0.666667  0.333333  0.000000  0.000000  0.000000  0.333333   \n",
       "\n",
       "     potter  processing  programming    python    series     seven  \n",
       "0  0.000000    0.500000     0.000000  0.000000  0.000000  0.000000  \n",
       "1  0.000000    0.000000     0.617614  0.617614  0.000000  0.000000  \n",
       "2  0.000000    0.465809     0.000000  0.000000  0.000000  0.000000  \n",
       "3  0.333333    0.000000     0.000000  0.000000  0.333333  0.333333  "
      ]
     },
     "execution_count": 79,
     "metadata": {},
     "output_type": "execute_result"
    }
   ],
   "source": [
    "pd.DataFrame(tfidf.transform(corpus).toarray(), columns=tfidf.get_feature_names_out())"
   ]
  },
  {
   "cell_type": "markdown",
   "metadata": {
    "id": "_Mu9M1tK56F-"
   },
   "source": [
    "TF-IDF 값의 해석\n",
    "\n",
    "- 높은 TF-IDF 값:\n",
    "-- 문서 내에서 단어의 출현 빈도가 높다는 의미입니다 (TF가 높음).\n",
    "-- 전체 문서에서 비교적 드물게 등장하는 단어라는 의미입니다 (IDF가 높음).\n",
    "-- 문서에서 상대적으로 중요한 단어일 가능성 및 해당 문서의 주제나 핵심 내용을 잘 대표할 가능성이 큽니다.\n",
    "예를 들어, 기술 문서에서 특정 용어에 높은 TF-IDF 값이 있다면, 이 용어가 문서의 주요 개념임을 시사할 수 있습니다.\n",
    "\n",
    "- 낮은 TF-IDF 값:\n",
    "-- 문서 내에서 자주 등장하지 않거나, 전체 문서에서 흔하게 등장하는 단어일 가능성이 큽니다.\n",
    "-- 정보가 부족한 단어일 가능성이 높습니다.\n",
    "예를 들어, \"그리고\", \"하지만\"과 같은 접속사는 거의 모든 문서에서 등장하지만, 문서의 주제를 나타내는 중요한 단어로 보기 어렵기 때문에 TF-IDF 값이 낮게 나옵니다."
   ]
  }
 ],
 "metadata": {
  "colab": {
   "provenance": [
    {
     "file_id": "1UJ36KTBTgw8fvBBvsdQjx-OUP0YrGNet",
     "timestamp": 1730026848712
    }
   ]
  },
  "kernelspec": {
   "display_name": "Python 3 (ipykernel)",
   "language": "python",
   "name": "python3"
  },
  "language_info": {
   "codemirror_mode": {
    "name": "ipython",
    "version": 3
   },
   "file_extension": ".py",
   "mimetype": "text/x-python",
   "name": "python",
   "nbconvert_exporter": "python",
   "pygments_lexer": "ipython3",
   "version": "3.11.7"
  }
 },
 "nbformat": 4,
 "nbformat_minor": 4
}
